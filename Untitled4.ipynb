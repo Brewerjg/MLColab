{
  "nbformat": 4,
  "nbformat_minor": 0,
  "metadata": {
    "colab": {
      "provenance": [],
      "gpuType": "T4"
    },
    "kernelspec": {
      "name": "python3",
      "display_name": "Python 3"
    },
    "language_info": {
      "name": "python"
    },
    "accelerator": "GPU"
  },
  "cells": [
    {
      "cell_type": "code",
      "execution_count": null,
      "metadata": {
        "id": "5wdNSObGtrh8"
      },
      "outputs": [],
      "source": [
        "import numpy as np\n",
        "import seaborn as sns\n",
        "import matplotlib.pyplot as plt\n",
        "%matplotlib inline\n",
        "import pandas as pd\n",
        "from sklearn.tree import DecisionTreeClassifier\n",
        "from sklearn.ensemble import BaggingClassifier\n",
        "from sklearn.model_selection import train_test_split\n",
        "from imblearn.over_sampling import SMOTE\n",
        "from collections import Counter\n",
        "from tensorflow import keras\n",
        "from keras.callbacks import EarlyStopping\n",
        "\n",
        "np.set_printoptions(precision=3, suppress=True)"
      ]
    },
    {
      "cell_type": "code",
      "source": [
        "from sklearn import preprocessing\n",
        "from sklearn.model_selection import cross_val_score, cross_val_predict\n",
        "from sklearn.metrics import accuracy_score, classification_report\n",
        "from sklearn.metrics import confusion_matrix, roc_auc_score"
      ],
      "metadata": {
        "id": "GYrN8C3e1VX_"
      },
      "execution_count": null,
      "outputs": []
    },
    {
      "cell_type": "code",
      "source": [
        "dataset = pd.read_csv(\"heart_disease_health_indicators_BRFSS2015.csv\")\n",
        "print(dataset.columns)"
      ],
      "metadata": {
        "colab": {
          "base_uri": "https://localhost:8080/"
        },
        "id": "gtodKl4duBmg",
        "outputId": "2bfcf20b-8b0e-4f28-9515-fc91e1052547"
      },
      "execution_count": null,
      "outputs": [
        {
          "output_type": "stream",
          "name": "stdout",
          "text": [
            "Index(['HeartDiseaseorAttack', 'HighBP', 'HighChol', 'CholCheck', 'BMI',\n",
            "       'Smoker', 'Stroke', 'Diabetes', 'PhysActivity', 'Fruits', 'Veggies',\n",
            "       'HvyAlcoholConsump', 'AnyHealthcare', 'NoDocbcCost', 'GenHlth',\n",
            "       'MentHlth', 'PhysHlth', 'DiffWalk', 'Sex', 'Age', 'Education',\n",
            "       'Income'],\n",
            "      dtype='object')\n"
          ]
        }
      ]
    },
    {
      "cell_type": "code",
      "source": [
        "print('Original dataset shape %s' % Counter(dataset['HeartDiseaseorAttack']))\n",
        "\n",
        "sm = SMOTE(random_state=42)\n",
        "X_res, y_res = sm.fit_resample(dataset.drop('HeartDiseaseorAttack', axis=1), dataset['HeartDiseaseorAttack'])\n",
        "\n",
        "print('Resampled dataset shape %s' % Counter(y_res))"
      ],
      "metadata": {
        "colab": {
          "base_uri": "https://localhost:8080/"
        },
        "id": "RxvZzDODuBVU",
        "outputId": "af8fc48e-cc8f-47ec-c6f4-af105dc7757d"
      },
      "execution_count": null,
      "outputs": [
        {
          "output_type": "stream",
          "name": "stdout",
          "text": [
            "Original dataset shape Counter({0.0: 229787, 1.0: 23893})\n",
            "Resampled dataset shape Counter({0.0: 229787, 1.0: 229787})\n"
          ]
        }
      ]
    },
    {
      "cell_type": "code",
      "source": [
        "feature_drop=[ 'AnyHealthcare', 'NoDocbcCost', 'GenHlth',\n",
        "       'MentHlth']\n",
        "\n",
        "X = X_res.drop(feature_drop, axis=1).values\n",
        "y = y_res.values"
      ],
      "metadata": {
        "id": "yBKB7c84xkIq"
      },
      "execution_count": null,
      "outputs": []
    },
    {
      "cell_type": "code",
      "source": [
        "X_train, X_temp, y_train, y_temp = train_test_split(X, y, train_size=0.8, random_state=42)\n",
        "\n",
        "X_val, X_test, y_val, y_test = train_test_split(X_temp, y_temp, test_size=0.5, random_state=42)"
      ],
      "metadata": {
        "id": "waHxHgEkxj_7"
      },
      "execution_count": null,
      "outputs": []
    },
    {
      "cell_type": "code",
      "source": [
        "\n",
        "model = BaggingClassifier(estimator=DecisionTreeClassifier(),\n",
        "                           n_estimators=100,\n",
        "                           random_state=42)\n",
        "model.fit(X_train, y_train)\n",
        "print('Training completed')\n"
      ],
      "metadata": {
        "colab": {
          "base_uri": "https://localhost:8080/"
        },
        "id": "oxJaz58VyqeK",
        "outputId": "f79d93e3-405c-4e2b-fbbc-c5400d820fdb"
      },
      "execution_count": null,
      "outputs": [
        {
          "output_type": "stream",
          "name": "stdout",
          "text": [
            "Training completed\n"
          ]
        }
      ]
    },
    {
      "cell_type": "code",
      "source": [
        "y_pred = model.predict(X_test)\n",
        "print('Test accuracy %s' % accuracy_score(y_test, y_pred))\n"
      ],
      "metadata": {
        "colab": {
          "base_uri": "https://localhost:8080/"
        },
        "id": "GrcMRpUH02FQ",
        "outputId": "c0581a84-35dd-4523-e565-f6d8cffeeab4"
      },
      "execution_count": null,
      "outputs": [
        {
          "output_type": "stream",
          "name": "stdout",
          "text": [
            "Test accuracy 0.9397928543452718\n"
          ]
        }
      ]
    },
    {
      "cell_type": "code",
      "source": [
        "def print_score(clf, X_train, X_test, y_train, y_test, train=True):\n",
        "\n",
        "    if train:\n",
        "        '''\n",
        "        training performance\n",
        "        '''\n",
        "        res = model.predict(X_train)\n",
        "        print(\"Train Result:\\n\")\n",
        "        print(\"accuracy score: {0:.4f}\\n\".format(accuracy_score(y_train,\n",
        "                                                                res)))\n",
        "        print(\"Classification Report: \\n {}\\n\".format(classification_report(y_train,\n",
        "                                                                            res)))\n",
        "        print(\"Confusion Matrix: \\n {}\\n\".format(confusion_matrix(y_train,\n",
        "                                                                  res)))\n",
        "        print(\"ROC AUC: {0:.4f}\\n\".format(roc_auc_score(y_train,\n",
        "                                                      res)))\n",
        "\n",
        "        res = cross_val_score(model, X_train, y_train, cv=10, scoring='accuracy')\n",
        "        print(\"Average Accuracy: \\t {0:.4f}\".format(np.mean(res)))\n",
        "        print(\"Accuracy SD: \\t\\t {0:.4f}\".format(np.std(res)))\n",
        "\n",
        "    elif train==False:\n",
        "        '''\n",
        "        test performance\n",
        "        '''\n",
        "        res_test = model.predict(X_test)\n",
        "        print(\"Test Result:\\n\")\n",
        "        print(\"accuracy score: {0:.4f}\\n\".format(accuracy_score(y_test,\n",
        "                                                                res_test)))\n",
        "        print(\"Classification Report: \\n {}\\n\".format(classification_report(y_test,\n",
        "                                                                            res_test)))\n",
        "        print(\"Confusion Matrix: \\n {}\\n\".format(confusion_matrix(y_test,\n",
        "                                                                  res_test)))\n",
        "        print(\"ROC AUC: {0:.4f}\\n\".format(roc_auc_score(y_test,\n",
        "                                                      res_test)))"
      ],
      "metadata": {
        "id": "vXB5aGr72ctd"
      },
      "execution_count": null,
      "outputs": []
    },
    {
      "cell_type": "code",
      "source": [],
      "metadata": {
        "id": "PVuKB0o_01-Y"
      },
      "execution_count": null,
      "outputs": []
    },
    {
      "cell_type": "code",
      "source": [
        "print_score(model, X_train, X_test, y_train, y_test, train=True)\n",
        "print_score(model, X_train, X_test, y_train, y_test, train=False)"
      ],
      "metadata": {
        "colab": {
          "base_uri": "https://localhost:8080/"
        },
        "id": "A8QREx7R0OCg",
        "outputId": "30fb715a-7f16-45d9-dd93-db5be70ab09a"
      },
      "execution_count": null,
      "outputs": [
        {
          "output_type": "stream",
          "name": "stdout",
          "text": [
            "Train Result:\n",
            "\n",
            "accuracy score: 0.9936\n",
            "\n",
            "Classification Report: \n",
            "               precision    recall  f1-score   support\n",
            "\n",
            "         0.0       0.99      1.00      0.99    183754\n",
            "         1.0       1.00      0.99      0.99    183905\n",
            "\n",
            "    accuracy                           0.99    367659\n",
            "   macro avg       0.99      0.99      0.99    367659\n",
            "weighted avg       0.99      0.99      0.99    367659\n",
            "\n",
            "\n",
            "Confusion Matrix: \n",
            " [[183055    699]\n",
            " [  1652 182253]]\n",
            "\n",
            "ROC AUC: 0.9936\n",
            "\n",
            "Average Accuracy: \t 0.9380\n",
            "Accuracy SD: \t\t 0.0006\n",
            "Test Result:\n",
            "\n",
            "accuracy score: 0.9398\n",
            "\n",
            "Classification Report: \n",
            "               precision    recall  f1-score   support\n",
            "\n",
            "         0.0       0.92      0.96      0.94     22931\n",
            "         1.0       0.96      0.92      0.94     23027\n",
            "\n",
            "    accuracy                           0.94     45958\n",
            "   macro avg       0.94      0.94      0.94     45958\n",
            "weighted avg       0.94      0.94      0.94     45958\n",
            "\n",
            "\n",
            "Confusion Matrix: \n",
            " [[22083   848]\n",
            " [ 1919 21108]]\n",
            "\n",
            "ROC AUC: 0.9398\n",
            "\n"
          ]
        }
      ]
    }
  ]
}